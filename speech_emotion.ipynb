{
  "nbformat": 4,
  "nbformat_minor": 0,
  "metadata": {
    "colab": {
      "name": "speech_emotion.ipynb",
      "provenance": [],
      "collapsed_sections": [],
      "mount_file_id": "1od7Jmsnabvi_QzXJ20iDAURyjY6xXBlN",
      "authorship_tag": "ABX9TyMCbf53X4u3wehDr9YkBQCj",
      "include_colab_link": true
    },
    "kernelspec": {
      "name": "python3",
      "display_name": "Python 3"
    },
    "accelerator": "GPU"
  },
  "cells": [
    {
      "cell_type": "markdown",
      "metadata": {
        "id": "view-in-github",
        "colab_type": "text"
      },
      "source": [
        "<a href=\"https://colab.research.google.com/github/l642/Speech_emotion_recognition/blob/main/speech_emotion.ipynb\" target=\"_parent\"><img src=\"https://colab.research.google.com/assets/colab-badge.svg\" alt=\"Open In Colab\"/></a>"
      ]
    },
    {
      "cell_type": "code",
      "metadata": {
        "id": "fjPFpLu9V6hR"
      },
      "source": [
        "! sudo pip install pysoundfile"
      ],
      "execution_count": null,
      "outputs": []
    },
    {
      "cell_type": "code",
      "metadata": {
        "id": "q6oFyi1MJfv7"
      },
      "source": [
        "#import the import labraries\r\n",
        "import librosa\r\n",
        "import os, glob, pickle\r\n",
        "import numpy as np\r\n",
        "import soundfile\r\n",
        "from sklearn.model_selection import train_test_split"
      ],
      "execution_count": null,
      "outputs": []
    },
    {
      "cell_type": "code",
      "metadata": {
        "id": "PlaTUzoCWBzs"
      },
      "source": [
        "#import the dataset and extract features\r\n",
        "def extract_feature(file_name, mfcc, chroma, mel):\r\n",
        "    with soundfile.SoundFile(file_name) as sound_file:\r\n",
        "        X = sound_file.read(dtype=\"float32\")\r\n",
        "        sample_rate=sound_file.samplerate\r\n",
        "        if chroma:\r\n",
        "            stft=np.abs(librosa.stft(X))\r\n",
        "        result=np.array([])\r\n",
        "        if mfcc:\r\n",
        "            mfccs=np.mean(librosa.feature.mfcc(y=X, sr=sample_rate, n_mfcc=40).T, axis=0)\r\n",
        "            result=np.hstack((result, mfccs))\r\n",
        "        if chroma:\r\n",
        "            chroma=np.mean(librosa.feature.chroma_stft(S=stft, sr=sample_rate).T,axis=0)\r\n",
        "            result=np.hstack((result, chroma))\r\n",
        "        if mel:\r\n",
        "            mel=np.mean(librosa.feature.melspectrogram(X, sr=sample_rate).T,axis=0)\r\n",
        "            result=np.hstack((result, mel))\r\n",
        "            return result"
      ],
      "execution_count": null,
      "outputs": []
    },
    {
      "cell_type": "code",
      "metadata": {
        "id": "3sp08vr1zNGc"
      },
      "source": [
        ""
      ],
      "execution_count": null,
      "outputs": []
    },
    {
      "cell_type": "code",
      "metadata": {
        "id": "aPbvN3bRWxpP"
      },
      "source": [
        "#define a dictionary to hold numbers and the emotions available in the dataset\r\n",
        "emotions={\r\n",
        "  '01':'neutral',\r\n",
        "  '02':'calm',\r\n",
        "  '03':'happy',\r\n",
        "  '04':'sad',\r\n",
        "  '05':'angry',\r\n",
        "  '06':'fearful',\r\n",
        "  '07':'disgust',\r\n",
        "  '08':'surprised'\r\n",
        "}\r\n",
        "\r\n",
        "#DataFlair - Emotions to observe\r\n",
        "observed_emotions=['calm', 'happy', 'fearful', 'disgust']"
      ],
      "execution_count": null,
      "outputs": []
    },
    {
      "cell_type": "code",
      "metadata": {
        "id": "rl1XWglOW2ql"
      },
      "source": [
        "#Load the data and extract features for each sound file\r\n",
        "def load_data(test_size=0.2):\r\n",
        "    x,y=[],[]\r\n",
        "    for file in glob.glob(\"/content/drive/MyDrive/speech_emotion/Actor_*/*.wav\"):\r\n",
        "        file_name=os.path.basename(file)\r\n",
        "        emotion=emotions[file_name.split(\"-\")[2]]\r\n",
        "        if emotion not in observed_emotions:\r\n",
        "            continue\r\n",
        "        feature=extract_feature(file, mfcc=True, chroma=True, mel=True)\r\n",
        "        x.append(feature)\r\n",
        "        y.append(emotion)\r\n",
        "    return train_test_split(np.array(x), y, test_size=test_size, random_state=9)"
      ],
      "execution_count": null,
      "outputs": []
    },
    {
      "cell_type": "code",
      "metadata": {
        "id": "YkdhionRU1C1"
      },
      "source": [
        "# Split the dataset into train and test\r\n",
        "x_train,x_test,y_train,y_test=load_data(test_size=0.25)"
      ],
      "execution_count": null,
      "outputs": []
    },
    {
      "cell_type": "code",
      "metadata": {
        "colab": {
          "base_uri": "https://localhost:8080/"
        },
        "id": "9L25DMsMbH6-",
        "outputId": "0ce20997-972f-4b37-df0f-d9accf1fa42b"
      },
      "source": [
        "#train.shape\r\n",
        "x_train.shape"
      ],
      "execution_count": null,
      "outputs": [
        {
          "output_type": "execute_result",
          "data": {
            "text/plain": [
              "(576, 180)"
            ]
          },
          "metadata": {
            "tags": []
          },
          "execution_count": 24
        }
      ]
    },
    {
      "cell_type": "code",
      "metadata": {
        "colab": {
          "base_uri": "https://localhost:8080/"
        },
        "id": "8UmBexxZb8dc",
        "outputId": "4c3d8fb9-1b84-410f-8539-3e1c907844fc"
      },
      "source": [
        "#test.shape\r\n",
        "x_test.shape"
      ],
      "execution_count": null,
      "outputs": [
        {
          "output_type": "execute_result",
          "data": {
            "text/plain": [
              "(192, 180)"
            ]
          },
          "metadata": {
            "tags": []
          },
          "execution_count": 26
        }
      ]
    },
    {
      "cell_type": "code",
      "metadata": {
        "id": "Ptq3ekRKcITX"
      },
      "source": [
        "y_train.value_count"
      ],
      "execution_count": null,
      "outputs": []
    },
    {
      "cell_type": "code",
      "metadata": {
        "colab": {
          "base_uri": "https://localhost:8080/"
        },
        "id": "_qSLVr1XdBPd",
        "outputId": "4b263e5c-625f-4ebe-b20b-8d0deb335b8e"
      },
      "source": [
        "#Bulding MLP classifier model\r\n",
        "from sklearn.neural_network import MLPClassifier\r\n",
        "model=MLPClassifier(alpha=0.01, batch_size=256, hidden_layer_sizes=(300,),\r\n",
        "                    learning_rate='adaptive', max_iter=500)\r\n",
        "model.fit(x_train,y_train)"
      ],
      "execution_count": null,
      "outputs": [
        {
          "output_type": "execute_result",
          "data": {
            "text/plain": [
              "MLPClassifier(activation='relu', alpha=0.01, batch_size=256, beta_1=0.9,\n",
              "              beta_2=0.999, early_stopping=False, epsilon=1e-08,\n",
              "              hidden_layer_sizes=(300,), learning_rate='adaptive',\n",
              "              learning_rate_init=0.001, max_fun=15000, max_iter=500,\n",
              "              momentum=0.9, n_iter_no_change=10, nesterovs_momentum=True,\n",
              "              power_t=0.5, random_state=None, shuffle=True, solver='adam',\n",
              "              tol=0.0001, validation_fraction=0.1, verbose=False,\n",
              "              warm_start=False)"
            ]
          },
          "metadata": {
            "tags": []
          },
          "execution_count": 84
        }
      ]
    },
    {
      "cell_type": "code",
      "metadata": {
        "id": "KevmrKMOdRRY"
      },
      "source": [
        "#prediction on test dataset\r\n",
        "y_pred=model.predict(x_test)"
      ],
      "execution_count": null,
      "outputs": []
    },
    {
      "cell_type": "code",
      "metadata": {
        "colab": {
          "base_uri": "https://localhost:8080/"
        },
        "id": "lioTOY81eAQ7",
        "outputId": "0d4c67ff-15cc-48cc-c110-ee5685cab702"
      },
      "source": [
        "#confusion matrix\r\n",
        "from sklearn.metrics import confusion_matrix\r\n",
        "c=confusion_matrix(y_pred,y_test)\r\n",
        "c"
      ],
      "execution_count": null,
      "outputs": [
        {
          "output_type": "execute_result",
          "data": {
            "text/plain": [
              "array([[29,  7,  2,  5],\n",
              "       [ 5, 31,  2,  9],\n",
              "       [ 3,  6, 45,  5],\n",
              "       [ 0,  3,  5, 35]])"
            ]
          },
          "metadata": {
            "tags": []
          },
          "execution_count": 86
        }
      ]
    },
    {
      "cell_type": "code",
      "metadata": {
        "colab": {
          "base_uri": "https://localhost:8080/"
        },
        "id": "D0J5M38tdlOa",
        "outputId": "ac2b3bd8-f9e5-4dfa-b51e-1de5081b9a12"
      },
      "source": [
        "#calcalate the accurcy\r\n",
        "from sklearn.metrics import accuracy_score\r\n",
        "z=accuracy_score(y_test,y_pred)\r\n",
        "z\r\n",
        "print(\"Accuracy: {:.2f}%\".format(z*100))"
      ],
      "execution_count": null,
      "outputs": [
        {
          "output_type": "stream",
          "text": [
            "Accuracy: 72.92%\n"
          ],
          "name": "stdout"
        }
      ]
    }
  ]
}